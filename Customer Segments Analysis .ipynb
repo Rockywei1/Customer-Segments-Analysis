{
 "cells": [
  {
   "cell_type": "markdown",
   "metadata": {},
   "source": [
    "## Importing libraries and data"
   ]
  },
  {
   "cell_type": "code",
   "execution_count": 1,
   "metadata": {},
   "outputs": [],
   "source": [
    "import pandas as pd\n",
    "import numpy as np\n",
    "from pandas import DataFrame, Series\n",
    "import seaborn as sns\n",
    "import matplotlib.pyplot as plt\n",
    "\n",
    "%matplotlib inline\n",
    "from warnings import filterwarnings\n",
    "filterwarnings('ignore')"
   ]
  },
  {
   "cell_type": "code",
   "execution_count": 2,
   "metadata": {},
   "outputs": [
    {
     "data": {
      "text/html": [
       "<div>\n",
       "<style scoped>\n",
       "    .dataframe tbody tr th:only-of-type {\n",
       "        vertical-align: middle;\n",
       "    }\n",
       "\n",
       "    .dataframe tbody tr th {\n",
       "        vertical-align: top;\n",
       "    }\n",
       "\n",
       "    .dataframe thead th {\n",
       "        text-align: right;\n",
       "    }\n",
       "</style>\n",
       "<table border=\"1\" class=\"dataframe\">\n",
       "  <thead>\n",
       "    <tr style=\"text-align: right;\">\n",
       "      <th></th>\n",
       "      <th>Row ID</th>\n",
       "      <th>Order ID</th>\n",
       "      <th>Order Date</th>\n",
       "      <th>Ship Date</th>\n",
       "      <th>Ship Mode</th>\n",
       "      <th>Customer ID</th>\n",
       "      <th>Customer Name</th>\n",
       "      <th>Segment</th>\n",
       "      <th>Country</th>\n",
       "      <th>City</th>\n",
       "      <th>...</th>\n",
       "      <th>Postal Code</th>\n",
       "      <th>Region</th>\n",
       "      <th>Product ID</th>\n",
       "      <th>Category</th>\n",
       "      <th>Sub-Category</th>\n",
       "      <th>Product Name</th>\n",
       "      <th>Sales</th>\n",
       "      <th>Quantity</th>\n",
       "      <th>Discount</th>\n",
       "      <th>Profit</th>\n",
       "    </tr>\n",
       "  </thead>\n",
       "  <tbody>\n",
       "    <tr>\n",
       "      <th>0</th>\n",
       "      <td>7981</td>\n",
       "      <td>CA-2015-103800</td>\n",
       "      <td>2015/1/3</td>\n",
       "      <td>2015/1/7</td>\n",
       "      <td>Standard Class</td>\n",
       "      <td>DP-13000</td>\n",
       "      <td>Darren Powers</td>\n",
       "      <td>Consumer</td>\n",
       "      <td>United States</td>\n",
       "      <td>Houston</td>\n",
       "      <td>...</td>\n",
       "      <td>77095.0</td>\n",
       "      <td>Central</td>\n",
       "      <td>OFF-PA-10000174</td>\n",
       "      <td>Office Supplies</td>\n",
       "      <td>Paper</td>\n",
       "      <td>Message Book, Wirebound, Four 5 1/2\" X 4\" Form...</td>\n",
       "      <td>16.448</td>\n",
       "      <td>2</td>\n",
       "      <td>0.2</td>\n",
       "      <td>5.5512</td>\n",
       "    </tr>\n",
       "    <tr>\n",
       "      <th>1</th>\n",
       "      <td>740</td>\n",
       "      <td>CA-2015-112326</td>\n",
       "      <td>2015/1/4</td>\n",
       "      <td>2015/1/8</td>\n",
       "      <td>Standard Class</td>\n",
       "      <td>PO-19195</td>\n",
       "      <td>Phillina Ober</td>\n",
       "      <td>Home Office</td>\n",
       "      <td>United States</td>\n",
       "      <td>Naperville</td>\n",
       "      <td>...</td>\n",
       "      <td>60540.0</td>\n",
       "      <td>Central</td>\n",
       "      <td>OFF-LA-10003223</td>\n",
       "      <td>Office Supplies</td>\n",
       "      <td>Labels</td>\n",
       "      <td>Avery 508</td>\n",
       "      <td>11.784</td>\n",
       "      <td>3</td>\n",
       "      <td>0.2</td>\n",
       "      <td>4.2717</td>\n",
       "    </tr>\n",
       "    <tr>\n",
       "      <th>2</th>\n",
       "      <td>741</td>\n",
       "      <td>CA-2015-112326</td>\n",
       "      <td>2015/1/4</td>\n",
       "      <td>2015/1/8</td>\n",
       "      <td>Standard Class</td>\n",
       "      <td>PO-19195</td>\n",
       "      <td>Phillina Ober</td>\n",
       "      <td>Home Office</td>\n",
       "      <td>United States</td>\n",
       "      <td>Naperville</td>\n",
       "      <td>...</td>\n",
       "      <td>60540.0</td>\n",
       "      <td>Central</td>\n",
       "      <td>OFF-ST-10002743</td>\n",
       "      <td>Office Supplies</td>\n",
       "      <td>Storage</td>\n",
       "      <td>SAFCO Boltless Steel Shelving</td>\n",
       "      <td>272.736</td>\n",
       "      <td>3</td>\n",
       "      <td>0.2</td>\n",
       "      <td>-64.7748</td>\n",
       "    </tr>\n",
       "    <tr>\n",
       "      <th>3</th>\n",
       "      <td>742</td>\n",
       "      <td>CA-2015-112326</td>\n",
       "      <td>2015/1/4</td>\n",
       "      <td>2015/1/8</td>\n",
       "      <td>Standard Class</td>\n",
       "      <td>PO-19195</td>\n",
       "      <td>Phillina Ober</td>\n",
       "      <td>Home Office</td>\n",
       "      <td>United States</td>\n",
       "      <td>Naperville</td>\n",
       "      <td>...</td>\n",
       "      <td>60540.0</td>\n",
       "      <td>Central</td>\n",
       "      <td>OFF-BI-10004094</td>\n",
       "      <td>Office Supplies</td>\n",
       "      <td>Binders</td>\n",
       "      <td>GBC Standard Plastic Binding Systems Combs</td>\n",
       "      <td>3.540</td>\n",
       "      <td>2</td>\n",
       "      <td>0.8</td>\n",
       "      <td>-5.4870</td>\n",
       "    </tr>\n",
       "    <tr>\n",
       "      <th>4</th>\n",
       "      <td>1760</td>\n",
       "      <td>CA-2015-141817</td>\n",
       "      <td>2015/1/5</td>\n",
       "      <td>2015/1/12</td>\n",
       "      <td>Standard Class</td>\n",
       "      <td>MB-18085</td>\n",
       "      <td>Mick Brown</td>\n",
       "      <td>Consumer</td>\n",
       "      <td>United States</td>\n",
       "      <td>Philadelphia</td>\n",
       "      <td>...</td>\n",
       "      <td>19143.0</td>\n",
       "      <td>East</td>\n",
       "      <td>OFF-AR-10003478</td>\n",
       "      <td>Office Supplies</td>\n",
       "      <td>Art</td>\n",
       "      <td>Avery Hi-Liter EverBold Pen Style Fluorescent ...</td>\n",
       "      <td>19.536</td>\n",
       "      <td>3</td>\n",
       "      <td>0.2</td>\n",
       "      <td>4.8840</td>\n",
       "    </tr>\n",
       "  </tbody>\n",
       "</table>\n",
       "<p>5 rows × 21 columns</p>\n",
       "</div>"
      ],
      "text/plain": [
       "   Row ID        Order ID Order Date  Ship Date       Ship Mode Customer ID  \\\n",
       "0    7981  CA-2015-103800   2015/1/3   2015/1/7  Standard Class    DP-13000   \n",
       "1     740  CA-2015-112326   2015/1/4   2015/1/8  Standard Class    PO-19195   \n",
       "2     741  CA-2015-112326   2015/1/4   2015/1/8  Standard Class    PO-19195   \n",
       "3     742  CA-2015-112326   2015/1/4   2015/1/8  Standard Class    PO-19195   \n",
       "4    1760  CA-2015-141817   2015/1/5  2015/1/12  Standard Class    MB-18085   \n",
       "\n",
       "   Customer Name      Segment        Country          City  ... Postal Code  \\\n",
       "0  Darren Powers     Consumer  United States       Houston  ...     77095.0   \n",
       "1  Phillina Ober  Home Office  United States    Naperville  ...     60540.0   \n",
       "2  Phillina Ober  Home Office  United States    Naperville  ...     60540.0   \n",
       "3  Phillina Ober  Home Office  United States    Naperville  ...     60540.0   \n",
       "4     Mick Brown     Consumer  United States  Philadelphia  ...     19143.0   \n",
       "\n",
       "    Region       Product ID         Category Sub-Category  \\\n",
       "0  Central  OFF-PA-10000174  Office Supplies        Paper   \n",
       "1  Central  OFF-LA-10003223  Office Supplies       Labels   \n",
       "2  Central  OFF-ST-10002743  Office Supplies      Storage   \n",
       "3  Central  OFF-BI-10004094  Office Supplies      Binders   \n",
       "4     East  OFF-AR-10003478  Office Supplies          Art   \n",
       "\n",
       "                                        Product Name    Sales  Quantity  \\\n",
       "0  Message Book, Wirebound, Four 5 1/2\" X 4\" Form...   16.448         2   \n",
       "1                                          Avery 508   11.784         3   \n",
       "2                      SAFCO Boltless Steel Shelving  272.736         3   \n",
       "3         GBC Standard Plastic Binding Systems Combs    3.540         2   \n",
       "4  Avery Hi-Liter EverBold Pen Style Fluorescent ...   19.536         3   \n",
       "\n",
       "   Discount   Profit  \n",
       "0       0.2   5.5512  \n",
       "1       0.2   4.2717  \n",
       "2       0.2 -64.7748  \n",
       "3       0.8  -5.4870  \n",
       "4       0.2   4.8840  \n",
       "\n",
       "[5 rows x 21 columns]"
      ]
     },
     "execution_count": 2,
     "metadata": {},
     "output_type": "execute_result"
    }
   ],
   "source": [
    "#Load Data\n",
    "csv_path = 'C:/Users/GGPC/Desktop/North_American_Superstore.csv'\n",
    "df = pd.read_csv(csv_path, encoding=\"gbk\")\n",
    "df.head()"
   ]
  },
  {
   "cell_type": "code",
   "execution_count": 3,
   "metadata": {},
   "outputs": [],
   "source": [
    "#  The column names in the original dataframe contain spaces and need to be replaced\n",
    "df.rename(columns = lambda x : x.replace(' ',''),inplace = True)"
   ]
  },
  {
   "cell_type": "code",
   "execution_count": 4,
   "metadata": {},
   "outputs": [
    {
     "data": {
      "text/html": [
       "<div>\n",
       "<style scoped>\n",
       "    .dataframe tbody tr th:only-of-type {\n",
       "        vertical-align: middle;\n",
       "    }\n",
       "\n",
       "    .dataframe tbody tr th {\n",
       "        vertical-align: top;\n",
       "    }\n",
       "\n",
       "    .dataframe thead th {\n",
       "        text-align: right;\n",
       "    }\n",
       "</style>\n",
       "<table border=\"1\" class=\"dataframe\">\n",
       "  <thead>\n",
       "    <tr style=\"text-align: right;\">\n",
       "      <th></th>\n",
       "      <th>RowID</th>\n",
       "      <th>OrderID</th>\n",
       "      <th>OrderDate</th>\n",
       "      <th>ShipDate</th>\n",
       "      <th>ShipMode</th>\n",
       "      <th>CustomerID</th>\n",
       "      <th>CustomerName</th>\n",
       "      <th>Segment</th>\n",
       "      <th>Country</th>\n",
       "      <th>City</th>\n",
       "      <th>...</th>\n",
       "      <th>PostalCode</th>\n",
       "      <th>Region</th>\n",
       "      <th>ProductID</th>\n",
       "      <th>Category</th>\n",
       "      <th>Sub-Category</th>\n",
       "      <th>ProductName</th>\n",
       "      <th>Sales</th>\n",
       "      <th>Quantity</th>\n",
       "      <th>Discount</th>\n",
       "      <th>Profit</th>\n",
       "    </tr>\n",
       "  </thead>\n",
       "  <tbody>\n",
       "    <tr>\n",
       "      <th>0</th>\n",
       "      <td>7981</td>\n",
       "      <td>CA-2015-103800</td>\n",
       "      <td>2015/1/3</td>\n",
       "      <td>2015/1/7</td>\n",
       "      <td>Standard Class</td>\n",
       "      <td>DP-13000</td>\n",
       "      <td>Darren Powers</td>\n",
       "      <td>Consumer</td>\n",
       "      <td>United States</td>\n",
       "      <td>Houston</td>\n",
       "      <td>...</td>\n",
       "      <td>77095.0</td>\n",
       "      <td>Central</td>\n",
       "      <td>OFF-PA-10000174</td>\n",
       "      <td>Office Supplies</td>\n",
       "      <td>Paper</td>\n",
       "      <td>Message Book, Wirebound, Four 5 1/2\" X 4\" Form...</td>\n",
       "      <td>16.448</td>\n",
       "      <td>2</td>\n",
       "      <td>0.2</td>\n",
       "      <td>5.5512</td>\n",
       "    </tr>\n",
       "    <tr>\n",
       "      <th>1</th>\n",
       "      <td>740</td>\n",
       "      <td>CA-2015-112326</td>\n",
       "      <td>2015/1/4</td>\n",
       "      <td>2015/1/8</td>\n",
       "      <td>Standard Class</td>\n",
       "      <td>PO-19195</td>\n",
       "      <td>Phillina Ober</td>\n",
       "      <td>Home Office</td>\n",
       "      <td>United States</td>\n",
       "      <td>Naperville</td>\n",
       "      <td>...</td>\n",
       "      <td>60540.0</td>\n",
       "      <td>Central</td>\n",
       "      <td>OFF-LA-10003223</td>\n",
       "      <td>Office Supplies</td>\n",
       "      <td>Labels</td>\n",
       "      <td>Avery 508</td>\n",
       "      <td>11.784</td>\n",
       "      <td>3</td>\n",
       "      <td>0.2</td>\n",
       "      <td>4.2717</td>\n",
       "    </tr>\n",
       "    <tr>\n",
       "      <th>2</th>\n",
       "      <td>741</td>\n",
       "      <td>CA-2015-112326</td>\n",
       "      <td>2015/1/4</td>\n",
       "      <td>2015/1/8</td>\n",
       "      <td>Standard Class</td>\n",
       "      <td>PO-19195</td>\n",
       "      <td>Phillina Ober</td>\n",
       "      <td>Home Office</td>\n",
       "      <td>United States</td>\n",
       "      <td>Naperville</td>\n",
       "      <td>...</td>\n",
       "      <td>60540.0</td>\n",
       "      <td>Central</td>\n",
       "      <td>OFF-ST-10002743</td>\n",
       "      <td>Office Supplies</td>\n",
       "      <td>Storage</td>\n",
       "      <td>SAFCO Boltless Steel Shelving</td>\n",
       "      <td>272.736</td>\n",
       "      <td>3</td>\n",
       "      <td>0.2</td>\n",
       "      <td>-64.7748</td>\n",
       "    </tr>\n",
       "    <tr>\n",
       "      <th>3</th>\n",
       "      <td>742</td>\n",
       "      <td>CA-2015-112326</td>\n",
       "      <td>2015/1/4</td>\n",
       "      <td>2015/1/8</td>\n",
       "      <td>Standard Class</td>\n",
       "      <td>PO-19195</td>\n",
       "      <td>Phillina Ober</td>\n",
       "      <td>Home Office</td>\n",
       "      <td>United States</td>\n",
       "      <td>Naperville</td>\n",
       "      <td>...</td>\n",
       "      <td>60540.0</td>\n",
       "      <td>Central</td>\n",
       "      <td>OFF-BI-10004094</td>\n",
       "      <td>Office Supplies</td>\n",
       "      <td>Binders</td>\n",
       "      <td>GBC Standard Plastic Binding Systems Combs</td>\n",
       "      <td>3.540</td>\n",
       "      <td>2</td>\n",
       "      <td>0.8</td>\n",
       "      <td>-5.4870</td>\n",
       "    </tr>\n",
       "    <tr>\n",
       "      <th>4</th>\n",
       "      <td>1760</td>\n",
       "      <td>CA-2015-141817</td>\n",
       "      <td>2015/1/5</td>\n",
       "      <td>2015/1/12</td>\n",
       "      <td>Standard Class</td>\n",
       "      <td>MB-18085</td>\n",
       "      <td>Mick Brown</td>\n",
       "      <td>Consumer</td>\n",
       "      <td>United States</td>\n",
       "      <td>Philadelphia</td>\n",
       "      <td>...</td>\n",
       "      <td>19143.0</td>\n",
       "      <td>East</td>\n",
       "      <td>OFF-AR-10003478</td>\n",
       "      <td>Office Supplies</td>\n",
       "      <td>Art</td>\n",
       "      <td>Avery Hi-Liter EverBold Pen Style Fluorescent ...</td>\n",
       "      <td>19.536</td>\n",
       "      <td>3</td>\n",
       "      <td>0.2</td>\n",
       "      <td>4.8840</td>\n",
       "    </tr>\n",
       "  </tbody>\n",
       "</table>\n",
       "<p>5 rows × 21 columns</p>\n",
       "</div>"
      ],
      "text/plain": [
       "   RowID         OrderID OrderDate   ShipDate        ShipMode CustomerID  \\\n",
       "0   7981  CA-2015-103800  2015/1/3   2015/1/7  Standard Class   DP-13000   \n",
       "1    740  CA-2015-112326  2015/1/4   2015/1/8  Standard Class   PO-19195   \n",
       "2    741  CA-2015-112326  2015/1/4   2015/1/8  Standard Class   PO-19195   \n",
       "3    742  CA-2015-112326  2015/1/4   2015/1/8  Standard Class   PO-19195   \n",
       "4   1760  CA-2015-141817  2015/1/5  2015/1/12  Standard Class   MB-18085   \n",
       "\n",
       "    CustomerName      Segment        Country          City  ... PostalCode  \\\n",
       "0  Darren Powers     Consumer  United States       Houston  ...    77095.0   \n",
       "1  Phillina Ober  Home Office  United States    Naperville  ...    60540.0   \n",
       "2  Phillina Ober  Home Office  United States    Naperville  ...    60540.0   \n",
       "3  Phillina Ober  Home Office  United States    Naperville  ...    60540.0   \n",
       "4     Mick Brown     Consumer  United States  Philadelphia  ...    19143.0   \n",
       "\n",
       "    Region        ProductID         Category Sub-Category  \\\n",
       "0  Central  OFF-PA-10000174  Office Supplies        Paper   \n",
       "1  Central  OFF-LA-10003223  Office Supplies       Labels   \n",
       "2  Central  OFF-ST-10002743  Office Supplies      Storage   \n",
       "3  Central  OFF-BI-10004094  Office Supplies      Binders   \n",
       "4     East  OFF-AR-10003478  Office Supplies          Art   \n",
       "\n",
       "                                         ProductName    Sales  Quantity  \\\n",
       "0  Message Book, Wirebound, Four 5 1/2\" X 4\" Form...   16.448         2   \n",
       "1                                          Avery 508   11.784         3   \n",
       "2                      SAFCO Boltless Steel Shelving  272.736         3   \n",
       "3         GBC Standard Plastic Binding Systems Combs    3.540         2   \n",
       "4  Avery Hi-Liter EverBold Pen Style Fluorescent ...   19.536         3   \n",
       "\n",
       "   Discount   Profit  \n",
       "0       0.2   5.5512  \n",
       "1       0.2   4.2717  \n",
       "2       0.2 -64.7748  \n",
       "3       0.8  -5.4870  \n",
       "4       0.2   4.8840  \n",
       "\n",
       "[5 rows x 21 columns]"
      ]
     },
     "execution_count": 4,
     "metadata": {},
     "output_type": "execute_result"
    }
   ],
   "source": [
    "df.shape\n",
    "df.head()"
   ]
  },
  {
   "cell_type": "markdown",
   "metadata": {},
   "source": [
    "## 1.Data Preprocessing\n"
   ]
  },
  {
   "cell_type": "markdown",
   "metadata": {},
   "source": [
    "### 1.1 View data information"
   ]
  },
  {
   "cell_type": "code",
   "execution_count": 5,
   "metadata": {},
   "outputs": [
    {
     "name": "stdout",
     "output_type": "stream",
     "text": [
      "<class 'pandas.core.frame.DataFrame'>\n",
      "RangeIndex: 9994 entries, 0 to 9993\n",
      "Data columns (total 21 columns):\n",
      " #   Column        Non-Null Count  Dtype  \n",
      "---  ------        --------------  -----  \n",
      " 0   RowID         9994 non-null   int64  \n",
      " 1   OrderID       9994 non-null   object \n",
      " 2   OrderDate     9994 non-null   object \n",
      " 3   ShipDate      9994 non-null   object \n",
      " 4   ShipMode      9994 non-null   object \n",
      " 5   CustomerID    9994 non-null   object \n",
      " 6   CustomerName  9994 non-null   object \n",
      " 7   Segment       9994 non-null   object \n",
      " 8   Country       9994 non-null   object \n",
      " 9   City          9994 non-null   object \n",
      " 10  State         9994 non-null   object \n",
      " 11  PostalCode    9983 non-null   float64\n",
      " 12  Region        9994 non-null   object \n",
      " 13  ProductID     9994 non-null   object \n",
      " 14  Category      9994 non-null   object \n",
      " 15  Sub-Category  9994 non-null   object \n",
      " 16  ProductName   9994 non-null   object \n",
      " 17  Sales         9994 non-null   float64\n",
      " 18  Quantity      9994 non-null   int64  \n",
      " 19  Discount      9994 non-null   float64\n",
      " 20  Profit        9994 non-null   float64\n",
      "dtypes: float64(4), int64(2), object(15)\n",
      "memory usage: 1.6+ MB\n"
     ]
    }
   ],
   "source": [
    "df.describe()\n",
    "df.info()"
   ]
  },
  {
   "cell_type": "markdown",
   "metadata": {},
   "source": [
    "### 1.2 Deduplicate data\n"
   ]
  },
  {
   "cell_type": "code",
   "execution_count": 6,
   "metadata": {},
   "outputs": [
    {
     "name": "stdout",
     "output_type": "stream",
     "text": [
      "<class 'pandas.core.frame.DataFrame'>\n",
      "Int64Index: 9994 entries, 0 to 9993\n",
      "Data columns (total 21 columns):\n",
      " #   Column        Non-Null Count  Dtype  \n",
      "---  ------        --------------  -----  \n",
      " 0   RowID         9994 non-null   int64  \n",
      " 1   OrderID       9994 non-null   object \n",
      " 2   OrderDate     9994 non-null   object \n",
      " 3   ShipDate      9994 non-null   object \n",
      " 4   ShipMode      9994 non-null   object \n",
      " 5   CustomerID    9994 non-null   object \n",
      " 6   CustomerName  9994 non-null   object \n",
      " 7   Segment       9994 non-null   object \n",
      " 8   Country       9994 non-null   object \n",
      " 9   City          9994 non-null   object \n",
      " 10  State         9994 non-null   object \n",
      " 11  PostalCode    9983 non-null   float64\n",
      " 12  Region        9994 non-null   object \n",
      " 13  ProductID     9994 non-null   object \n",
      " 14  Category      9994 non-null   object \n",
      " 15  Sub-Category  9994 non-null   object \n",
      " 16  ProductName   9994 non-null   object \n",
      " 17  Sales         9994 non-null   float64\n",
      " 18  Quantity      9994 non-null   int64  \n",
      " 19  Discount      9994 non-null   float64\n",
      " 20  Profit        9994 non-null   float64\n",
      "dtypes: float64(4), int64(2), object(15)\n",
      "memory usage: 1.7+ MB\n"
     ]
    }
   ],
   "source": [
    "df = df.drop_duplicates()\n",
    "df.info()"
   ]
  },
  {
   "cell_type": "markdown",
   "metadata": {},
   "source": [
    "### 1.3 Eliminate data with obvious abnormal values"
   ]
  },
  {
   "cell_type": "code",
   "execution_count": 7,
   "metadata": {},
   "outputs": [
    {
     "data": {
      "text/plain": [
       "0"
      ]
     },
     "execution_count": 7,
     "metadata": {},
     "output_type": "execute_result"
    }
   ],
   "source": [
    "#  Count the number of Sales less than zero\n",
    "df.loc[df['Sales']<0].Sales.count()\n"
   ]
  },
  {
   "cell_type": "code",
   "execution_count": 8,
   "metadata": {},
   "outputs": [],
   "source": [
    "# Take the rows where Sales and Quantity are both greater than zero\n",
    "df = df.loc[(df['Sales']>0)&(df['Quantity']>0)] "
   ]
  },
  {
   "cell_type": "markdown",
   "metadata": {},
   "source": [
    "### 1.4 If there are missing values, consider filling or deleting the entire row of data"
   ]
  },
  {
   "cell_type": "code",
   "execution_count": 9,
   "metadata": {},
   "outputs": [
    {
     "data": {
      "text/plain": [
       "RowID            0\n",
       "OrderID          0\n",
       "OrderDate        0\n",
       "ShipDate         0\n",
       "ShipMode         0\n",
       "CustomerID       0\n",
       "CustomerName     0\n",
       "Segment          0\n",
       "Country          0\n",
       "City             0\n",
       "State            0\n",
       "PostalCode      11\n",
       "Region           0\n",
       "ProductID        0\n",
       "Category         0\n",
       "Sub-Category     0\n",
       "ProductName      0\n",
       "Sales            0\n",
       "Quantity         0\n",
       "Discount         0\n",
       "Profit           0\n",
       "dtype: int64"
      ]
     },
     "execution_count": 9,
     "metadata": {},
     "output_type": "execute_result"
    }
   ],
   "source": [
    "# The missing value of the postal code does not affect our data analysis\n",
    "df.isnull().sum()"
   ]
  },
  {
   "cell_type": "markdown",
   "metadata": {},
   "source": [
    "### 1.5 Convert OrderDate from String to Datetime format"
   ]
  },
  {
   "cell_type": "code",
   "execution_count": 10,
   "metadata": {},
   "outputs": [
    {
     "name": "stdout",
     "output_type": "stream",
     "text": [
      "<class 'pandas.core.frame.DataFrame'>\n",
      "Int64Index: 9994 entries, 0 to 9993\n",
      "Data columns (total 21 columns):\n",
      " #   Column        Non-Null Count  Dtype         \n",
      "---  ------        --------------  -----         \n",
      " 0   RowID         9994 non-null   int64         \n",
      " 1   OrderID       9994 non-null   object        \n",
      " 2   OrderDate     9994 non-null   datetime64[ns]\n",
      " 3   ShipDate      9994 non-null   object        \n",
      " 4   ShipMode      9994 non-null   object        \n",
      " 5   CustomerID    9994 non-null   object        \n",
      " 6   CustomerName  9994 non-null   object        \n",
      " 7   Segment       9994 non-null   object        \n",
      " 8   Country       9994 non-null   object        \n",
      " 9   City          9994 non-null   object        \n",
      " 10  State         9994 non-null   object        \n",
      " 11  PostalCode    9983 non-null   float64       \n",
      " 12  Region        9994 non-null   object        \n",
      " 13  ProductID     9994 non-null   object        \n",
      " 14  Category      9994 non-null   object        \n",
      " 15  Sub-Category  9994 non-null   object        \n",
      " 16  ProductName   9994 non-null   object        \n",
      " 17  Sales         9994 non-null   float64       \n",
      " 18  Quantity      9994 non-null   int64         \n",
      " 19  Discount      9994 non-null   float64       \n",
      " 20  Profit        9994 non-null   float64       \n",
      "dtypes: datetime64[ns](1), float64(4), int64(2), object(14)\n",
      "memory usage: 1.7+ MB\n",
      "The latest order date： 2018-12-30 00:00:00\n",
      "The earliest order date： 2015-01-03 00:00:00\n"
     ]
    }
   ],
   "source": [
    "# Convert to datetime format\n",
    "df['OrderDate'] = pd.to_datetime(df['OrderDate'])\n",
    "df.info()\n",
    "\n",
    "# View the date range of the customer's order\n",
    "print('The latest order date：',df['OrderDate'].max())\n",
    "print('The earliest order date：',df['OrderDate'].min())"
   ]
  },
  {
   "cell_type": "markdown",
   "metadata": {},
   "source": [
    "## 2.Customer segments and customer profitability analysis（Based on RFM model）\n",
    "\n",
    "A study by Arthur Hughes of the American Database Marketing Institute found that three important indicators in customer data analysis, namely: the last consumption (Recency), consumption frequency (Frequency), and consumption amount (Monetary). They are important standards for measuring customer value. RFM analysis is an exploratory analysis method.\n",
    "\n",
    "### Customer Segments Classification:\n",
    "\n",
    "Core (high, high, high): Absolutely high-quality customers with recent consumption time, high consumption frequency and consumption amount.\n",
    "\n",
    "Loyal (low, high, high): The recent consumption time is relatively long, but the frequency and quantity of consumption are very high, indicating that this is a loyal customer who has not been here for a period of time and needs to actively keep in touch with him.\n",
    "\n",
    "Whales (High, Low, High): The recent consumption time is relatively short, the consumption amount is high, but the frequency and the loyalty is not high, and the potential users must focus on development.\n",
    "\n",
    "Slipping(low, low, high): Recently, the consumption time is relatively long and the consumption frequency is not high, but the consumption amount is high. It may be the users who will or have already lost. The measures should be focused on retention.\n",
    "\n",
    "The remaining customers would be defined as Regular.\n",
    "\n",
    "### Why RFM Model?\n",
    "\n",
    "Identify quality customers, and providing personalized marketing services to them. It will be strong support for marketing decisions, these could measure customer value and customer profitability.\n",
    "\n",
    "### Disadvantage of traditional model\n",
    "\n",
    "The frequency used refers the number of orders placed by the user at all times, and there is an error in the cumulative effect of time.\n",
    "\n",
    "\n",
    "### Improvements to the model:\n",
    "\n",
    "New Frequency = The total number of orders/The number of years for the user to generate transactions"
   ]
  },
  {
   "cell_type": "markdown",
   "metadata": {},
   "source": [
    "### 2.1 Obtain all orders placed by customers\n"
   ]
  },
  {
   "cell_type": "code",
   "execution_count": 11,
   "metadata": {},
   "outputs": [
    {
     "data": {
      "text/html": [
       "<div>\n",
       "<style scoped>\n",
       "    .dataframe tbody tr th:only-of-type {\n",
       "        vertical-align: middle;\n",
       "    }\n",
       "\n",
       "    .dataframe tbody tr th {\n",
       "        vertical-align: top;\n",
       "    }\n",
       "\n",
       "    .dataframe thead th {\n",
       "        text-align: right;\n",
       "    }\n",
       "</style>\n",
       "<table border=\"1\" class=\"dataframe\">\n",
       "  <thead>\n",
       "    <tr style=\"text-align: right;\">\n",
       "      <th></th>\n",
       "      <th>Frequency</th>\n",
       "    </tr>\n",
       "    <tr>\n",
       "      <th>CustomerID</th>\n",
       "      <th></th>\n",
       "    </tr>\n",
       "  </thead>\n",
       "  <tbody>\n",
       "    <tr>\n",
       "      <th>AA-10315</th>\n",
       "      <td>5</td>\n",
       "    </tr>\n",
       "    <tr>\n",
       "      <th>AA-10375</th>\n",
       "      <td>9</td>\n",
       "    </tr>\n",
       "    <tr>\n",
       "      <th>AA-10480</th>\n",
       "      <td>4</td>\n",
       "    </tr>\n",
       "    <tr>\n",
       "      <th>AA-10645</th>\n",
       "      <td>6</td>\n",
       "    </tr>\n",
       "    <tr>\n",
       "      <th>AB-10015</th>\n",
       "      <td>3</td>\n",
       "    </tr>\n",
       "  </tbody>\n",
       "</table>\n",
       "</div>"
      ],
      "text/plain": [
       "            Frequency\n",
       "CustomerID           \n",
       "AA-10315            5\n",
       "AA-10375            9\n",
       "AA-10480            4\n",
       "AA-10645            6\n",
       "AB-10015            3"
      ]
     },
     "execution_count": 11,
     "metadata": {},
     "output_type": "execute_result"
    }
   ],
   "source": [
    "#  Combine the same orders\n",
    "df_f = df.copy()\n",
    "df_f.drop_duplicates(subset=['OrderID'],keep='first',inplace=True)\n",
    "df_freq = df_f.groupby('CustomerID',as_index=False).OrderID.count().rename(columns={'OrderID':'Frequency'})\n",
    "df_freq.set_index('CustomerID',drop=True,inplace=True)\n",
    "df_freq.head()"
   ]
  },
  {
   "cell_type": "markdown",
   "metadata": {},
   "source": [
    "### 2.2 Obtain the monetary, profit and recency by different customers"
   ]
  },
  {
   "cell_type": "code",
   "execution_count": 12,
   "metadata": {},
   "outputs": [
    {
     "data": {
      "text/html": [
       "<div>\n",
       "<style scoped>\n",
       "    .dataframe tbody tr th:only-of-type {\n",
       "        vertical-align: middle;\n",
       "    }\n",
       "\n",
       "    .dataframe tbody tr th {\n",
       "        vertical-align: top;\n",
       "    }\n",
       "\n",
       "    .dataframe thead th {\n",
       "        text-align: right;\n",
       "    }\n",
       "</style>\n",
       "<table border=\"1\" class=\"dataframe\">\n",
       "  <thead>\n",
       "    <tr style=\"text-align: right;\">\n",
       "      <th></th>\n",
       "      <th>Monetary</th>\n",
       "      <th>Profit</th>\n",
       "      <th>Recency</th>\n",
       "    </tr>\n",
       "    <tr>\n",
       "      <th>CustomerID</th>\n",
       "      <th></th>\n",
       "      <th></th>\n",
       "      <th></th>\n",
       "    </tr>\n",
       "  </thead>\n",
       "  <tbody>\n",
       "    <tr>\n",
       "      <th>AA-10315</th>\n",
       "      <td>5563.560</td>\n",
       "      <td>-362.8825</td>\n",
       "      <td>186</td>\n",
       "    </tr>\n",
       "    <tr>\n",
       "      <th>AA-10375</th>\n",
       "      <td>1056.390</td>\n",
       "      <td>277.3824</td>\n",
       "      <td>21</td>\n",
       "    </tr>\n",
       "    <tr>\n",
       "      <th>AA-10480</th>\n",
       "      <td>1790.512</td>\n",
       "      <td>435.8274</td>\n",
       "      <td>261</td>\n",
       "    </tr>\n",
       "    <tr>\n",
       "      <th>AA-10645</th>\n",
       "      <td>5086.935</td>\n",
       "      <td>857.8033</td>\n",
       "      <td>57</td>\n",
       "    </tr>\n",
       "    <tr>\n",
       "      <th>AB-10015</th>\n",
       "      <td>886.156</td>\n",
       "      <td>129.3465</td>\n",
       "      <td>417</td>\n",
       "    </tr>\n",
       "  </tbody>\n",
       "</table>\n",
       "</div>"
      ],
      "text/plain": [
       "            Monetary    Profit  Recency\n",
       "CustomerID                             \n",
       "AA-10315    5563.560 -362.8825      186\n",
       "AA-10375    1056.390  277.3824       21\n",
       "AA-10480    1790.512  435.8274      261\n",
       "AA-10645    5086.935  857.8033       57\n",
       "AB-10015     886.156  129.3465      417"
      ]
     },
     "execution_count": 12,
     "metadata": {},
     "output_type": "execute_result"
    }
   ],
   "source": [
    "df_group = df.groupby('CustomerID')\n",
    "df_rm = df_group.agg({'Sales':'sum','OrderDate':'max','Profit':'sum'}).rename(columns={'Sales':'Monetary'})\n",
    "df_rm['Recency'] = (pd.to_datetime('2019-01-01') - df_rm['OrderDate']).dt.days\n",
    "df_rm.head()\n",
    "df_rm = df_rm.drop('OrderDate',axis=1)\n",
    "df_rm.head()\n"
   ]
  },
  {
   "cell_type": "markdown",
   "metadata": {},
   "source": [
    "### 2.3 Obtain the average annual order frequency of different customers during their purchase period\n"
   ]
  },
  {
   "cell_type": "code",
   "execution_count": 13,
   "metadata": {},
   "outputs": [
    {
     "data": {
      "text/html": [
       "<div>\n",
       "<style scoped>\n",
       "    .dataframe tbody tr th:only-of-type {\n",
       "        vertical-align: middle;\n",
       "    }\n",
       "\n",
       "    .dataframe tbody tr th {\n",
       "        vertical-align: top;\n",
       "    }\n",
       "\n",
       "    .dataframe thead th {\n",
       "        text-align: right;\n",
       "    }\n",
       "</style>\n",
       "<table border=\"1\" class=\"dataframe\">\n",
       "  <thead>\n",
       "    <tr style=\"text-align: right;\">\n",
       "      <th></th>\n",
       "      <th>Frequency</th>\n",
       "    </tr>\n",
       "    <tr>\n",
       "      <th>CustomerID</th>\n",
       "      <th></th>\n",
       "    </tr>\n",
       "  </thead>\n",
       "  <tbody>\n",
       "    <tr>\n",
       "      <th>AA-10315</th>\n",
       "      <td>1.25</td>\n",
       "    </tr>\n",
       "    <tr>\n",
       "      <th>AA-10375</th>\n",
       "      <td>2.25</td>\n",
       "    </tr>\n",
       "    <tr>\n",
       "      <th>AA-10480</th>\n",
       "      <td>1.00</td>\n",
       "    </tr>\n",
       "    <tr>\n",
       "      <th>AA-10645</th>\n",
       "      <td>1.50</td>\n",
       "    </tr>\n",
       "    <tr>\n",
       "      <th>AB-10015</th>\n",
       "      <td>1.00</td>\n",
       "    </tr>\n",
       "  </tbody>\n",
       "</table>\n",
       "</div>"
      ],
      "text/plain": [
       "            Frequency\n",
       "CustomerID           \n",
       "AA-10315         1.25\n",
       "AA-10375         2.25\n",
       "AA-10480         1.00\n",
       "AA-10645         1.50\n",
       "AB-10015         1.00"
      ]
     },
     "execution_count": 13,
     "metadata": {},
     "output_type": "execute_result"
    }
   ],
   "source": [
    "DiffYears = df_group.agg({'OrderDate':(lambda df : df.dt.year.max() - df.dt.year.min()+1)}).rename(\n",
    "    columns={'OrderDate':'DiffYears'}).DiffYears\n",
    "DiffYears.head()\n",
    "df_freq.Frequency=df_freq.Frequency/DiffYears\n",
    "df_freq.head()"
   ]
  },
  {
   "cell_type": "markdown",
   "metadata": {},
   "source": [
    "### 2.4 Combine the above indicators\n"
   ]
  },
  {
   "cell_type": "code",
   "execution_count": 14,
   "metadata": {},
   "outputs": [
    {
     "name": "stdout",
     "output_type": "stream",
     "text": [
      "<class 'pandas.core.frame.DataFrame'>\n",
      "Index: 793 entries, AA-10315 to ZD-21925\n",
      "Data columns (total 4 columns):\n",
      " #   Column     Non-Null Count  Dtype  \n",
      "---  ------     --------------  -----  \n",
      " 0   Monetary   793 non-null    float64\n",
      " 1   Profit     793 non-null    float64\n",
      " 2   Recency    793 non-null    int64  \n",
      " 3   Frequency  793 non-null    float64\n",
      "dtypes: float64(3), int64(1)\n",
      "memory usage: 31.0+ KB\n"
     ]
    },
    {
     "data": {
      "text/html": [
       "<div>\n",
       "<style scoped>\n",
       "    .dataframe tbody tr th:only-of-type {\n",
       "        vertical-align: middle;\n",
       "    }\n",
       "\n",
       "    .dataframe tbody tr th {\n",
       "        vertical-align: top;\n",
       "    }\n",
       "\n",
       "    .dataframe thead th {\n",
       "        text-align: right;\n",
       "    }\n",
       "</style>\n",
       "<table border=\"1\" class=\"dataframe\">\n",
       "  <thead>\n",
       "    <tr style=\"text-align: right;\">\n",
       "      <th></th>\n",
       "      <th>Monetary</th>\n",
       "      <th>Profit</th>\n",
       "      <th>Recency</th>\n",
       "      <th>Frequency</th>\n",
       "    </tr>\n",
       "  </thead>\n",
       "  <tbody>\n",
       "    <tr>\n",
       "      <th>count</th>\n",
       "      <td>793.000000</td>\n",
       "      <td>793.000000</td>\n",
       "      <td>793.000000</td>\n",
       "      <td>793.000000</td>\n",
       "    </tr>\n",
       "    <tr>\n",
       "      <th>mean</th>\n",
       "      <td>2896.848500</td>\n",
       "      <td>361.156396</td>\n",
       "      <td>148.773014</td>\n",
       "      <td>1.818306</td>\n",
       "    </tr>\n",
       "    <tr>\n",
       "      <th>std</th>\n",
       "      <td>2628.670117</td>\n",
       "      <td>894.261812</td>\n",
       "      <td>186.111367</td>\n",
       "      <td>0.673193</td>\n",
       "    </tr>\n",
       "    <tr>\n",
       "      <th>min</th>\n",
       "      <td>4.833000</td>\n",
       "      <td>-6626.389500</td>\n",
       "      <td>2.000000</td>\n",
       "      <td>0.500000</td>\n",
       "    </tr>\n",
       "    <tr>\n",
       "      <th>25%</th>\n",
       "      <td>1146.050000</td>\n",
       "      <td>36.613100</td>\n",
       "      <td>32.000000</td>\n",
       "      <td>1.250000</td>\n",
       "    </tr>\n",
       "    <tr>\n",
       "      <th>50%</th>\n",
       "      <td>2256.394000</td>\n",
       "      <td>227.833800</td>\n",
       "      <td>77.000000</td>\n",
       "      <td>1.750000</td>\n",
       "    </tr>\n",
       "    <tr>\n",
       "      <th>75%</th>\n",
       "      <td>3785.276000</td>\n",
       "      <td>560.007800</td>\n",
       "      <td>185.000000</td>\n",
       "      <td>2.250000</td>\n",
       "    </tr>\n",
       "    <tr>\n",
       "      <th>max</th>\n",
       "      <td>25043.050000</td>\n",
       "      <td>8981.323900</td>\n",
       "      <td>1167.000000</td>\n",
       "      <td>5.000000</td>\n",
       "    </tr>\n",
       "  </tbody>\n",
       "</table>\n",
       "</div>"
      ],
      "text/plain": [
       "           Monetary       Profit      Recency   Frequency\n",
       "count    793.000000   793.000000   793.000000  793.000000\n",
       "mean    2896.848500   361.156396   148.773014    1.818306\n",
       "std     2628.670117   894.261812   186.111367    0.673193\n",
       "min        4.833000 -6626.389500     2.000000    0.500000\n",
       "25%     1146.050000    36.613100    32.000000    1.250000\n",
       "50%     2256.394000   227.833800    77.000000    1.750000\n",
       "75%     3785.276000   560.007800   185.000000    2.250000\n",
       "max    25043.050000  8981.323900  1167.000000    5.000000"
      ]
     },
     "execution_count": 14,
     "metadata": {},
     "output_type": "execute_result"
    }
   ],
   "source": [
    "df_rfm = df_rm.merge(df_freq,on='CustomerID')\n",
    "df_rfm.info()\n",
    "df_rfm.head()\n",
    "df_rfm.describe()"
   ]
  },
  {
   "cell_type": "markdown",
   "metadata": {},
   "source": [
    "### 2.5 Divide the types of customers based on the median"
   ]
  },
  {
   "cell_type": "code",
   "execution_count": 15,
   "metadata": {},
   "outputs": [
    {
     "data": {
      "text/plain": [
       "(77.0, 1.75, 2256.394)"
      ]
     },
     "execution_count": 15,
     "metadata": {},
     "output_type": "execute_result"
    }
   ],
   "source": [
    "# Calculate median of each value of RFM\n",
    "r_med = df_rfm['Recency'].median()\n",
    "f_med = df_rfm['Frequency'].median()\n",
    "m_med = df_rfm['Monetary'].median()\n",
    "r_med,f_med,m_med"
   ]
  },
  {
   "cell_type": "code",
   "execution_count": 16,
   "metadata": {},
   "outputs": [],
   "source": [
    "# Build a function to classify customers\n",
    "def customer_type_func(frame): \n",
    "    customer_type_list = []\n",
    "    for i in range(len(frame)):\n",
    "        if frame.iloc[i,2]<=r_med and frame.iloc[i,3]>=f_med and frame.iloc[i,0]>=m_med:\n",
    "            customer_type_list.append('Core')\n",
    "        elif  frame.iloc[i,2]<=r_med and frame.iloc[i,3]<f_med and frame.iloc[i,0]>=m_med:\n",
    "            customer_type_list.append('Loyal')\n",
    "        elif  frame.iloc[i,2]>r_med and frame.iloc[i,3]>=f_med and frame.iloc[i,0]>=m_med:\n",
    "            customer_type_list.append('Whales')\n",
    "        elif  frame.iloc[i,2]>r_med and frame.iloc[i,3]<f_med and frame.iloc[i,0]>=m_med:\n",
    "            customer_type_list.append('Slipping')\n",
    "        else:\n",
    "            customer_type_list.append('General')\n",
    "    frame['CustomerType'] = customer_type_list\n",
    "customer_type_func(df_rfm)"
   ]
  },
  {
   "cell_type": "markdown",
   "metadata": {},
   "source": [
    "### 2.6 Analyze the overall profitability of different types of customers\n"
   ]
  },
  {
   "cell_type": "code",
   "execution_count": 17,
   "metadata": {},
   "outputs": [
    {
     "data": {
      "text/html": [
       "<div>\n",
       "<style scoped>\n",
       "    .dataframe tbody tr th:only-of-type {\n",
       "        vertical-align: middle;\n",
       "    }\n",
       "\n",
       "    .dataframe tbody tr th {\n",
       "        vertical-align: top;\n",
       "    }\n",
       "\n",
       "    .dataframe thead th {\n",
       "        text-align: right;\n",
       "    }\n",
       "</style>\n",
       "<table border=\"1\" class=\"dataframe\">\n",
       "  <thead>\n",
       "    <tr style=\"text-align: right;\">\n",
       "      <th></th>\n",
       "      <th>CustomerType</th>\n",
       "      <th>ProfitType</th>\n",
       "      <th>ProfitCustNum</th>\n",
       "    </tr>\n",
       "  </thead>\n",
       "  <tbody>\n",
       "    <tr>\n",
       "      <th>0</th>\n",
       "      <td>Core</td>\n",
       "      <td>False</td>\n",
       "      <td>32</td>\n",
       "    </tr>\n",
       "    <tr>\n",
       "      <th>1</th>\n",
       "      <td>Core</td>\n",
       "      <td>True</td>\n",
       "      <td>147</td>\n",
       "    </tr>\n",
       "    <tr>\n",
       "      <th>2</th>\n",
       "      <td>General</td>\n",
       "      <td>False</td>\n",
       "      <td>87</td>\n",
       "    </tr>\n",
       "    <tr>\n",
       "      <th>3</th>\n",
       "      <td>General</td>\n",
       "      <td>True</td>\n",
       "      <td>309</td>\n",
       "    </tr>\n",
       "    <tr>\n",
       "      <th>4</th>\n",
       "      <td>Loyal</td>\n",
       "      <td>False</td>\n",
       "      <td>9</td>\n",
       "    </tr>\n",
       "    <tr>\n",
       "      <th>5</th>\n",
       "      <td>Loyal</td>\n",
       "      <td>True</td>\n",
       "      <td>42</td>\n",
       "    </tr>\n",
       "    <tr>\n",
       "      <th>6</th>\n",
       "      <td>Slipping</td>\n",
       "      <td>False</td>\n",
       "      <td>11</td>\n",
       "    </tr>\n",
       "    <tr>\n",
       "      <th>7</th>\n",
       "      <td>Slipping</td>\n",
       "      <td>True</td>\n",
       "      <td>41</td>\n",
       "    </tr>\n",
       "    <tr>\n",
       "      <th>8</th>\n",
       "      <td>Whales</td>\n",
       "      <td>False</td>\n",
       "      <td>16</td>\n",
       "    </tr>\n",
       "    <tr>\n",
       "      <th>9</th>\n",
       "      <td>Whales</td>\n",
       "      <td>True</td>\n",
       "      <td>99</td>\n",
       "    </tr>\n",
       "  </tbody>\n",
       "</table>\n",
       "</div>"
      ],
      "text/plain": [
       "  CustomerType  ProfitType  ProfitCustNum\n",
       "0         Core       False             32\n",
       "1         Core        True            147\n",
       "2      General       False             87\n",
       "3      General        True            309\n",
       "4        Loyal       False              9\n",
       "5        Loyal        True             42\n",
       "6     Slipping       False             11\n",
       "7     Slipping        True             41\n",
       "8       Whales       False             16\n",
       "9       Whales        True             99"
      ]
     },
     "execution_count": 17,
     "metadata": {},
     "output_type": "execute_result"
    }
   ],
   "source": [
    "# Obtain the total number of different types of customers and the number of customers with positive profit\n",
    "df_rfm['ProfitType'] = (df_rfm.Profit>0)\n",
    "df_ProfitCustNum= df_rfm.groupby(['CustomerType','ProfitType']).size().reset_index(name='ProfitCustNum')\n",
    "df_ProfitCustNum"
   ]
  },
  {
   "cell_type": "code",
   "execution_count": 18,
   "metadata": {},
   "outputs": [
    {
     "data": {
      "text/html": [
       "<div>\n",
       "<style scoped>\n",
       "    .dataframe tbody tr th:only-of-type {\n",
       "        vertical-align: middle;\n",
       "    }\n",
       "\n",
       "    .dataframe tbody tr th {\n",
       "        vertical-align: top;\n",
       "    }\n",
       "\n",
       "    .dataframe thead th {\n",
       "        text-align: right;\n",
       "    }\n",
       "</style>\n",
       "<table border=\"1\" class=\"dataframe\">\n",
       "  <thead>\n",
       "    <tr style=\"text-align: right;\">\n",
       "      <th></th>\n",
       "      <th>CustomerType</th>\n",
       "      <th>ProfitType</th>\n",
       "      <th>ProfitCustNum</th>\n",
       "    </tr>\n",
       "  </thead>\n",
       "  <tbody>\n",
       "    <tr>\n",
       "      <th>1</th>\n",
       "      <td>Core</td>\n",
       "      <td>True</td>\n",
       "      <td>147</td>\n",
       "    </tr>\n",
       "    <tr>\n",
       "      <th>3</th>\n",
       "      <td>General</td>\n",
       "      <td>True</td>\n",
       "      <td>309</td>\n",
       "    </tr>\n",
       "    <tr>\n",
       "      <th>5</th>\n",
       "      <td>Loyal</td>\n",
       "      <td>True</td>\n",
       "      <td>42</td>\n",
       "    </tr>\n",
       "    <tr>\n",
       "      <th>7</th>\n",
       "      <td>Slipping</td>\n",
       "      <td>True</td>\n",
       "      <td>41</td>\n",
       "    </tr>\n",
       "    <tr>\n",
       "      <th>9</th>\n",
       "      <td>Whales</td>\n",
       "      <td>True</td>\n",
       "      <td>99</td>\n",
       "    </tr>\n",
       "  </tbody>\n",
       "</table>\n",
       "</div>"
      ],
      "text/plain": [
       "  CustomerType  ProfitType  ProfitCustNum\n",
       "1         Core        True            147\n",
       "3      General        True            309\n",
       "5        Loyal        True             42\n",
       "7     Slipping        True             41\n",
       "9       Whales        True             99"
      ]
     },
     "execution_count": 18,
     "metadata": {},
     "output_type": "execute_result"
    }
   ],
   "source": [
    "df_ProfitCustNum = df_ProfitCustNum[df_ProfitCustNum.ProfitType==True]\n",
    "df_ProfitCustNum"
   ]
  },
  {
   "cell_type": "code",
   "execution_count": 19,
   "metadata": {},
   "outputs": [
    {
     "data": {
      "text/html": [
       "<div>\n",
       "<style scoped>\n",
       "    .dataframe tbody tr th:only-of-type {\n",
       "        vertical-align: middle;\n",
       "    }\n",
       "\n",
       "    .dataframe tbody tr th {\n",
       "        vertical-align: top;\n",
       "    }\n",
       "\n",
       "    .dataframe thead th {\n",
       "        text-align: right;\n",
       "    }\n",
       "</style>\n",
       "<table border=\"1\" class=\"dataframe\">\n",
       "  <thead>\n",
       "    <tr style=\"text-align: right;\">\n",
       "      <th></th>\n",
       "      <th>CustomerType</th>\n",
       "      <th>CustomerNum</th>\n",
       "    </tr>\n",
       "  </thead>\n",
       "  <tbody>\n",
       "    <tr>\n",
       "      <th>0</th>\n",
       "      <td>Core</td>\n",
       "      <td>179</td>\n",
       "    </tr>\n",
       "    <tr>\n",
       "      <th>1</th>\n",
       "      <td>General</td>\n",
       "      <td>396</td>\n",
       "    </tr>\n",
       "    <tr>\n",
       "      <th>2</th>\n",
       "      <td>Loyal</td>\n",
       "      <td>51</td>\n",
       "    </tr>\n",
       "    <tr>\n",
       "      <th>3</th>\n",
       "      <td>Slipping</td>\n",
       "      <td>52</td>\n",
       "    </tr>\n",
       "    <tr>\n",
       "      <th>4</th>\n",
       "      <td>Whales</td>\n",
       "      <td>115</td>\n",
       "    </tr>\n",
       "  </tbody>\n",
       "</table>\n",
       "</div>"
      ],
      "text/plain": [
       "  CustomerType  CustomerNum\n",
       "0         Core          179\n",
       "1      General          396\n",
       "2        Loyal           51\n",
       "3     Slipping           52\n",
       "4       Whales          115"
      ]
     },
     "execution_count": 19,
     "metadata": {},
     "output_type": "execute_result"
    }
   ],
   "source": [
    "df_Customer_Num = df_rfm.groupby(['CustomerType']).size().reset_index(name='CustomerNum')\n",
    "df_Customer_Num"
   ]
  },
  {
   "cell_type": "code",
   "execution_count": 20,
   "metadata": {},
   "outputs": [
    {
     "data": {
      "text/html": [
       "<div>\n",
       "<style scoped>\n",
       "    .dataframe tbody tr th:only-of-type {\n",
       "        vertical-align: middle;\n",
       "    }\n",
       "\n",
       "    .dataframe tbody tr th {\n",
       "        vertical-align: top;\n",
       "    }\n",
       "\n",
       "    .dataframe thead th {\n",
       "        text-align: right;\n",
       "    }\n",
       "</style>\n",
       "<table border=\"1\" class=\"dataframe\">\n",
       "  <thead>\n",
       "    <tr style=\"text-align: right;\">\n",
       "      <th></th>\n",
       "      <th>CustomerType</th>\n",
       "      <th>CustomerNum</th>\n",
       "      <th>ProfitRate</th>\n",
       "    </tr>\n",
       "  </thead>\n",
       "  <tbody>\n",
       "    <tr>\n",
       "      <th>0</th>\n",
       "      <td>Core</td>\n",
       "      <td>179</td>\n",
       "      <td>0.821229</td>\n",
       "    </tr>\n",
       "    <tr>\n",
       "      <th>1</th>\n",
       "      <td>General</td>\n",
       "      <td>396</td>\n",
       "      <td>0.780303</td>\n",
       "    </tr>\n",
       "    <tr>\n",
       "      <th>2</th>\n",
       "      <td>Loyal</td>\n",
       "      <td>51</td>\n",
       "      <td>0.823529</td>\n",
       "    </tr>\n",
       "    <tr>\n",
       "      <th>3</th>\n",
       "      <td>Slipping</td>\n",
       "      <td>52</td>\n",
       "      <td>0.788462</td>\n",
       "    </tr>\n",
       "    <tr>\n",
       "      <th>4</th>\n",
       "      <td>Whales</td>\n",
       "      <td>115</td>\n",
       "      <td>0.860870</td>\n",
       "    </tr>\n",
       "  </tbody>\n",
       "</table>\n",
       "</div>"
      ],
      "text/plain": [
       "  CustomerType  CustomerNum  ProfitRate\n",
       "0         Core          179    0.821229\n",
       "1      General          396    0.780303\n",
       "2        Loyal           51    0.823529\n",
       "3     Slipping           52    0.788462\n",
       "4       Whales          115    0.860870"
      ]
     },
     "execution_count": 20,
     "metadata": {},
     "output_type": "execute_result"
    }
   ],
   "source": [
    "df_Customer_Num['ProfitRate'] = df_ProfitCustNum.ProfitCustNum.values/df_Customer_Num.CustomerNum\n",
    "df_Customer_Num.head()"
   ]
  },
  {
   "cell_type": "code",
   "execution_count": 21,
   "metadata": {},
   "outputs": [
    {
     "data": {
      "text/html": [
       "<div>\n",
       "<style scoped>\n",
       "    .dataframe tbody tr th:only-of-type {\n",
       "        vertical-align: middle;\n",
       "    }\n",
       "\n",
       "    .dataframe tbody tr th {\n",
       "        vertical-align: top;\n",
       "    }\n",
       "\n",
       "    .dataframe thead th {\n",
       "        text-align: right;\n",
       "    }\n",
       "</style>\n",
       "<table border=\"1\" class=\"dataframe\">\n",
       "  <thead>\n",
       "    <tr style=\"text-align: right;\">\n",
       "      <th></th>\n",
       "      <th>CustomerType</th>\n",
       "      <th>Profit</th>\n",
       "    </tr>\n",
       "  </thead>\n",
       "  <tbody>\n",
       "    <tr>\n",
       "      <th>0</th>\n",
       "      <td>Core</td>\n",
       "      <td>95770.4661</td>\n",
       "    </tr>\n",
       "    <tr>\n",
       "      <th>1</th>\n",
       "      <td>General</td>\n",
       "      <td>45615.9372</td>\n",
       "    </tr>\n",
       "    <tr>\n",
       "      <th>2</th>\n",
       "      <td>Loyal</td>\n",
       "      <td>30303.5112</td>\n",
       "    </tr>\n",
       "    <tr>\n",
       "      <th>3</th>\n",
       "      <td>Slipping</td>\n",
       "      <td>29365.3520</td>\n",
       "    </tr>\n",
       "    <tr>\n",
       "      <th>4</th>\n",
       "      <td>Whales</td>\n",
       "      <td>85341.7552</td>\n",
       "    </tr>\n",
       "  </tbody>\n",
       "</table>\n",
       "</div>"
      ],
      "text/plain": [
       "  CustomerType      Profit\n",
       "0         Core  95770.4661\n",
       "1      General  45615.9372\n",
       "2        Loyal  30303.5112\n",
       "3     Slipping  29365.3520\n",
       "4       Whales  85341.7552"
      ]
     },
     "execution_count": 21,
     "metadata": {},
     "output_type": "execute_result"
    }
   ],
   "source": [
    "df_Profit= df_rfm.groupby(['CustomerType']).Profit.sum().reset_index(name='Profit')\n",
    "df_Profit"
   ]
  },
  {
   "cell_type": "code",
   "execution_count": 22,
   "metadata": {},
   "outputs": [
    {
     "data": {
      "text/html": [
       "<div>\n",
       "<style scoped>\n",
       "    .dataframe tbody tr th:only-of-type {\n",
       "        vertical-align: middle;\n",
       "    }\n",
       "\n",
       "    .dataframe tbody tr th {\n",
       "        vertical-align: top;\n",
       "    }\n",
       "\n",
       "    .dataframe thead th {\n",
       "        text-align: right;\n",
       "    }\n",
       "</style>\n",
       "<table border=\"1\" class=\"dataframe\">\n",
       "  <thead>\n",
       "    <tr style=\"text-align: right;\">\n",
       "      <th></th>\n",
       "      <th>CustomerType</th>\n",
       "      <th>Monetary</th>\n",
       "      <th>ProfitRate</th>\n",
       "      <th>Profit</th>\n",
       "      <th>MonetaryPerCust</th>\n",
       "      <th>ProfitPerCust</th>\n",
       "    </tr>\n",
       "  </thead>\n",
       "  <tbody>\n",
       "    <tr>\n",
       "      <th>0</th>\n",
       "      <td>Core</td>\n",
       "      <td>816862.0390</td>\n",
       "      <td>0.117242</td>\n",
       "      <td>95770.4661</td>\n",
       "      <td>4563.475078</td>\n",
       "      <td>535.030537</td>\n",
       "    </tr>\n",
       "    <tr>\n",
       "      <th>1</th>\n",
       "      <td>General</td>\n",
       "      <td>455864.3969</td>\n",
       "      <td>0.100065</td>\n",
       "      <td>45615.9372</td>\n",
       "      <td>1151.172719</td>\n",
       "      <td>115.191761</td>\n",
       "    </tr>\n",
       "    <tr>\n",
       "      <th>2</th>\n",
       "      <td>Loyal</td>\n",
       "      <td>236080.1130</td>\n",
       "      <td>0.128361</td>\n",
       "      <td>30303.5112</td>\n",
       "      <td>4629.021824</td>\n",
       "      <td>594.186494</td>\n",
       "    </tr>\n",
       "    <tr>\n",
       "      <th>3</th>\n",
       "      <td>Slipping</td>\n",
       "      <td>229137.1534</td>\n",
       "      <td>0.128156</td>\n",
       "      <td>29365.3520</td>\n",
       "      <td>4406.483719</td>\n",
       "      <td>564.718308</td>\n",
       "    </tr>\n",
       "    <tr>\n",
       "      <th>4</th>\n",
       "      <td>Whales</td>\n",
       "      <td>559257.1580</td>\n",
       "      <td>0.152598</td>\n",
       "      <td>85341.7552</td>\n",
       "      <td>4863.105722</td>\n",
       "      <td>742.102219</td>\n",
       "    </tr>\n",
       "  </tbody>\n",
       "</table>\n",
       "</div>"
      ],
      "text/plain": [
       "  CustomerType     Monetary  ProfitRate      Profit  MonetaryPerCust  \\\n",
       "0         Core  816862.0390    0.117242  95770.4661      4563.475078   \n",
       "1      General  455864.3969    0.100065  45615.9372      1151.172719   \n",
       "2        Loyal  236080.1130    0.128361  30303.5112      4629.021824   \n",
       "3     Slipping  229137.1534    0.128156  29365.3520      4406.483719   \n",
       "4       Whales  559257.1580    0.152598  85341.7552      4863.105722   \n",
       "\n",
       "   ProfitPerCust  \n",
       "0     535.030537  \n",
       "1     115.191761  \n",
       "2     594.186494  \n",
       "3     564.718308  \n",
       "4     742.102219  "
      ]
     },
     "execution_count": 22,
     "metadata": {},
     "output_type": "execute_result"
    }
   ],
   "source": [
    "# Order amount and profit of different types of customers and their proportion in the total amount and total profit\n",
    "df_Monetary = df_rfm.groupby('CustomerType').Monetary.sum().reset_index(name='Monetary')\n",
    "df_Monetary['ProfitRate'] = df_Profit.Profit/df_Monetary.Monetary\n",
    "df_Monetary['Profit'] = df_Profit.Profit\n",
    "df_Monetary['MonetaryPerCust'] = df_Monetary.Monetary/df_Customer_Num.CustomerNum\n",
    "df_Monetary['ProfitPerCust'] = df_Monetary.Profit/df_Customer_Num.CustomerNum\n",
    "df_Monetary"
   ]
  },
  {
   "cell_type": "markdown",
   "metadata": {},
   "source": [
    "### 2.7 RFM model classification and profit visualization\n"
   ]
  },
  {
   "cell_type": "code",
   "execution_count": 23,
   "metadata": {},
   "outputs": [
    {
     "data": {
      "text/plain": [
       "<seaborn.axisgrid.PairGrid at 0x1ce5cc044c0>"
      ]
     },
     "execution_count": 23,
     "metadata": {},
     "output_type": "execute_result"
    },
    {
     "data": {
      "image/png": "[encoded data removed]",
      "text/plain": [
       "<Figure size 619x540 with 12 Axes>"
      ]
     },
     "metadata": {
      "needs_background": "light"
     },
     "output_type": "display_data"
    }
   ],
   "source": [
    "sns.pairplot(df_rfm,hue='CustomerType', x_vars=[\"Recency\", \"Frequency\", \"Monetary\"],\n",
    "    y_vars=[\"Recency\", \"Frequency\", \"Monetary\"], markers=[\"o\", \"s\", \"P\",\"p\",\"D\"])"
   ]
  },
  {
   "cell_type": "code",
   "execution_count": 24,
   "metadata": {},
   "outputs": [
    {
     "data": {
      "image/png": "[encoded data removed]",
      "text/plain": [
       "<Figure size 1600x900 with 1 Axes>"
      ]
     },
     "metadata": {
      "needs_background": "light"
     },
     "output_type": "display_data"
    }
   ],
   "source": [
    "fig1 = plt.figure(1,figsize=(16,9),dpi=100)\n",
    "ax1_1 = fig1.add_subplot(111)\n",
    "sns.countplot(y='CustomerType',order=df_rfm['CustomerType'].value_counts(ascending=False).index,data=df_rfm,palette='Blues')\n",
    "ax1_1.tick_params(labelsize=15)\n",
    "ax1_1.set_title('Total number of different types of customers',fontsize=20)\n",
    "ax1_1.set_xlabel('')\n",
    "ax1_1.set_ylabel('')\n",
    "num_by_type=list(df_rfm.groupby('CustomerType').size())\n",
    "num_by_type=sorted(num_by_type,reverse=True)\n",
    "for x,y in enumerate(num_by_type):\n",
    "    ax1_1.text(y+0.2,x,'%s' %y,va='center',size=12)"
   ]
  },
  {
   "cell_type": "code",
   "execution_count": 25,
   "metadata": {},
   "outputs": [
    {
     "data": {
      "text/plain": [
       "Text(0.5, 1.0, 'Percentage of profit')"
      ]
     },
     "execution_count": 25,
     "metadata": {},
     "output_type": "execute_result"
    },
    {
     "data": {
      "image/png": "[encoded data removed]",
      "text/plain": [
       "<Figure size 1400x900 with 3 Axes>"
      ]
     },
     "metadata": {},
     "output_type": "display_data"
    }
   ],
   "source": [
    "fig2 = plt.figure(2,figsize=(14,9),dpi=100)\n",
    "\n",
    "ax2_1 = fig2.add_subplot(131)\n",
    "labels=df_rfm.groupby('CustomerType').CustomerType.size().index\n",
    "customer_num=df_rfm.groupby('CustomerType').CustomerType.size()\n",
    "explode=[0.05,0,0,0,0]\n",
    "ax2_1.pie(customer_num,explode=explode,labels=labels,textprops={'fontsize':12},shadow=False,autopct='%.2f%%')\n",
    "ax2_1.axis('equal')\n",
    "ax2_1.set_title('Percentage of customers',fontsize=18)\n",
    "\n",
    "ax2_2 = fig2.add_subplot(132)\n",
    "Monetary_sum=df_rfm.groupby('CustomerType').Monetary.sum()\n",
    "explode=[0,0.05,0,0,0]\n",
    "ax2_2.pie(Monetary_sum,explode=explode,labels=labels,textprops={'fontsize':12},shadow=False,autopct='%.2f%%')\n",
    "ax2_2.axis('equal')\n",
    "ax2_2.set_title('Percentage of sales',fontsize=18)\n",
    "\n",
    "ax2_3 = fig2.add_subplot(133)\n",
    "Porfit_sum=df_rfm.groupby('CustomerType').Profit.sum()\n",
    "explode=[0,0.05,0,0,0]\n",
    "ax2_3.pie(Porfit_sum,explode=explode,labels=labels,textprops={'fontsize':12},shadow=False,autopct='%.2f%%')\n",
    "ax2_3.axis('equal')\n",
    "ax2_3.set_title('Percentage of profit',fontsize=18)"
   ]
  },
  {
   "cell_type": "markdown",
   "metadata": {},
   "source": [
    "### Summary\n",
    "\n",
    "According to our classification, we have obtained the distribution of 5 types of customer groups.The proportion of general customers is the largest, up to 49.94%. This type of customer performs poorly in the dimensions of sales and profit, it shows that the customer's overall consumption frequency and amount are not ideal, and it is necessary to re-examine whether the product is facing problems.\n",
    "\n",
    "Our core customers perform best and are loyal high-value customers. We can consider tilting more resources to keep such customers and prevent loss, such as designing VIP services and providing recommendations for high-value additional services.\n",
    "\n",
    "For whales group, although the number of such customers is only 14.5%, it also performed well in terms of sales ratio and profit, showing a certain degree of loyalty and user stickiness, the main goal is to increase the frequency and amount of purchases. Strategies such as cross-selling, personalized recommendations, and combination coupons can be adopted to increase their purchase amount and promote its repurchase.\n",
    "\n",
    "The remaining two customer groups did not perform well in all dimensions, we can maintain and improve its consumption status by means of conventional gift exchange and giving, shopping community activities, sign-in, and free shipping."
   ]
  },
  {
   "cell_type": "markdown",
   "metadata": {},
   "source": [
    "## 3. Cohort Analysis"
   ]
  },
  {
   "cell_type": "markdown",
   "metadata": {},
   "source": [
    "Cohort analysis is a kind of behavior analysis, which mainly identifies customers by dividing them into related groups in order to better understand their behavior.\n",
    "\n",
    "\n",
    "### 1. Mainly includes two forms:\n",
    "Initial behavior: such as \"first use of App\", \"successful registration\" or \"first purchase behavior\", etc.\n",
    "\n",
    "Retention behavior: it can be any behavior of the user, such as making purchase, using App, sharing, etc.\n",
    "\n",
    "### 2. Analysis Process\n",
    "By grouping users according to the time of the initial behavior (to get the same group), and then counting the frequency of occurrence of the retained behavior in different time periods after the initial behavior time.\n",
    "\n",
    "### 3. Why Cohort Analysis\n",
    "Cohort analysis allows us to observe the behavior of customers at different stages of the life cycle. It is suitable for the data indicators we care about, such as revenue, user retention, sharing and dissemination. \n"
   ]
  },
  {
   "cell_type": "markdown",
   "metadata": {},
   "source": [
    "### 3.1 Each year is divided into two half-years as the cycle"
   ]
  },
  {
   "cell_type": "code",
   "execution_count": 26,
   "metadata": {},
   "outputs": [
    {
     "name": "stdout",
     "output_type": "stream",
     "text": [
      "<class 'pandas.core.frame.DataFrame'>\n",
      "Int64Index: 5009 entries, 0 to 9993\n",
      "Data columns (total 21 columns):\n",
      " #   Column        Non-Null Count  Dtype         \n",
      "---  ------        --------------  -----         \n",
      " 0   RowID         5009 non-null   int64         \n",
      " 1   OrderID       5009 non-null   object        \n",
      " 2   OrderDate     5009 non-null   datetime64[ns]\n",
      " 3   ShipDate      5009 non-null   object        \n",
      " 4   ShipMode      5009 non-null   object        \n",
      " 5   CustomerID    5009 non-null   object        \n",
      " 6   CustomerName  5009 non-null   object        \n",
      " 7   Segment       5009 non-null   object        \n",
      " 8   Country       5009 non-null   object        \n",
      " 9   City          5009 non-null   object        \n",
      " 10  State         5009 non-null   object        \n",
      " 11  PostalCode    5003 non-null   float64       \n",
      " 12  Region        5009 non-null   object        \n",
      " 13  ProductID     5009 non-null   object        \n",
      " 14  Category      5009 non-null   object        \n",
      " 15  Sub-Category  5009 non-null   object        \n",
      " 16  ProductName   5009 non-null   object        \n",
      " 17  Sales         5009 non-null   float64       \n",
      " 18  Quantity      5009 non-null   int64         \n",
      " 19  Discount      5009 non-null   float64       \n",
      " 20  Profit        5009 non-null   float64       \n",
      "dtypes: datetime64[ns](1), float64(4), int64(2), object(14)\n",
      "memory usage: 860.9+ KB\n"
     ]
    }
   ],
   "source": [
    "df1 = df_f.copy()\n",
    "# Define the time node separately as the start of each cycle\n",
    "time_nodes = pd.to_datetime(['2014-12-31','2015-06-30','2015-12-31','2016-06-30','2016-12-31','2017-06-30','2017-12-31','2018-06-30','2018-12-31'])\n",
    "# Each cycle is identified by 2015H1, for example, 2015H1 means the first half of 2015\n",
    "label = ['2015H1','2015H2','2016H1','2016H2','2017H1','2017H2','2018H1','2018H2']\n",
    "# Save the customer ID corresponding to different orders in each cycle, there may be duplicate values\n",
    "customer_list = []\n",
    "# Save the customer ID that have placed orders in each cycle, no duplicate values\n",
    "u_customer_list = []  \n",
    "\n",
    "df1.info()"
   ]
  },
  {
   "cell_type": "markdown",
   "metadata": {},
   "source": [
    "### 3.2 Obtain the customer ID of the order placed in different periods\n"
   ]
  },
  {
   "cell_type": "code",
   "execution_count": 29,
   "metadata": {},
   "outputs": [
    {
     "name": "stdout",
     "output_type": "stream",
     "text": [
      "2015H1 Number of customers who placed an order before deduplication: 332\n",
      "2015H1 Number of customers placing orders after deduplication: 281\n",
      "2015H2 Number of customers who placed an order before deduplication: 637\n",
      "2015H2 Number of customers placing orders after deduplication: 456\n",
      "2016H1 Number of customers who placed an order before deduplication: 358\n",
      "2016H1 Number of customers placing orders after deduplication: 293\n",
      "2016H2 Number of customers who placed an order before deduplication: 680\n",
      "2016H2 Number of customers placing orders after deduplication: 455\n",
      "2017H1 Number of customers who placed an order before deduplication: 473\n",
      "2017H1 Number of customers placing orders after deduplication: 352\n",
      "2017H2 Number of customers who placed an order before deduplication: 842\n",
      "2017H2 Number of customers placing orders after deduplication: 517\n",
      "2018H1 Number of customers who placed an order before deduplication: 607\n",
      "2018H1 Number of customers placing orders after deduplication: 436\n",
      "2018H2 Number of customers who placed an order before deduplication: 1080\n",
      "2018H2 Number of customers placing orders after deduplication: 594\n"
     ]
    }
   ],
   "source": [
    "for i in range(8):\n",
    "    customer_half_year = df1.loc[(df1.OrderDate>time_nodes[i])&(df1.OrderDate<=time_nodes[i+1]),:].CustomerID\n",
    "    u_customer_half_year = list(set(customer_half_year))\n",
    "    print(label[i] +' Number of customers who placed an order before deduplication:', len(customer_half_year))\n",
    "    print(label[i] +' Number of customers placing orders after deduplication:', len(u_customer_half_year))\n",
    "    customer_list.extend(customer_half_year)\n",
    "    u_customer_list.append(u_customer_half_year)\n",
    "# print(len(customer_list))"
   ]
  },
  {
   "cell_type": "markdown",
   "metadata": {},
   "source": [
    "### 3.3 It is impossible to determine the ID of all old customers in the history. Therefore, an assumption is made: the customers who placed orders in the first half of 2015 are old customers, and the new customers will be calculated from the second half of 2015. We begin to calculate customer retention rate in the first half of 2016."
   ]
  },
  {
   "cell_type": "code",
   "execution_count": 31,
   "metadata": {},
   "outputs": [
    {
     "name": "stdout",
     "output_type": "stream",
     "text": [
      "2015H2 The number of New Customer is: 314  The retention rate is: [0.373, 0.589, 0.452, 0.659, 0.545, 0.752]\n",
      "2016H1 The number of New Customer is: 68  The retention rate is: [0.544, 0.426, 0.676, 0.588, 0.735]\n",
      "2016H2 The number of New Customer is: 68  The retention rate is: [0.324, 0.603, 0.574, 0.721]\n",
      "2017H1 The number of New Customer is: 36  The retention rate is: [0.667, 0.583, 0.861]\n",
      "2017H2 The number of New Customer is: 15  The retention rate is: [0.4, 0.8]\n",
      "2018H1 The number of New Customer is: 5  The retention rate is: [0.6]\n"
     ]
    }
   ],
   "source": [
    "for i, customer_list_half_year in enumerate(u_customer_list):\n",
    "    if i>0 and i<7:\n",
    "        last_list = []  # Save all customer IDs in the past\n",
    "        retain_list = []  # Save the number of customers repurchased every six months in the future\n",
    "        for j in range(0,i):\n",
    "            last_list.extend(u_customer_list[j])\n",
    "        last_list = list(set(last_list))\n",
    "        new_list = [cust for cust in customer_list_half_year if cust not in last_list]  # Save the new customer ID in the current cycle\n",
    "        for k in range(i+1,8):\n",
    "            retain_list.append(len([cust for cust in u_customer_list[k] if cust in new_list]))\n",
    "        print(label[i]+' The number of New Customer is:', len(new_list), ' The retention rate is:',[round(i/len(new_list), 3) for i in retain_list])"
   ]
  },
  {
   "cell_type": "markdown",
   "metadata": {},
   "source": [
    "### Summary\n",
    "By calculating the retention rate, we find that the retention rate has decreased in the first half of each year, but the situation has improved in the second half of the year. However, starting from 2017, the increase in new users is not obvious compared to the past, and the number of new users is also very small."
   ]
  },
  {
   "cell_type": "code",
   "execution_count": null,
   "metadata": {},
   "outputs": [],
   "source": []
  }
 ],
 "metadata": {
  "kernelspec": {
   "display_name": "Python 3",
   "language": "python",
   "name": "python3"
  },
  "language_info": {
   "codemirror_mode": {
    "name": "ipython",
    "version": 3
   },
   "file_extension": ".py",
   "mimetype": "text/x-python",
   "name": "python",
   "nbconvert_exporter": "python",
   "pygments_lexer": "ipython3",
   "version": "3.8.3"
  }
 },
 "nbformat": 4,
 "nbformat_minor": 4
}
